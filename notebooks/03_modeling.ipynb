{
 "cells": [
  {
   "cell_type": "markdown",
   "id": "6a80b123",
   "metadata": {
    "vscode": {
     "languageId": "plaintext"
    }
   },
   "source": [
    "# 03_modeling"
   ]
  },
  {
   "cell_type": "markdown",
   "id": "c1293a53",
   "metadata": {},
   "source": [
    "## Importando bibliotecas"
   ]
  },
  {
   "cell_type": "code",
   "execution_count": 1,
   "id": "1c8b3446",
   "metadata": {},
   "outputs": [],
   "source": [
    "import joblib\n",
    "from sklearn.linear_model import LogisticRegression\n",
    "from sklearn.naive_bayes import MultinomialNB\n",
    "from sklearn.metrics import classification_report, confusion_matrix\n",
    "from sklearn.metrics import roc_curve, auc"
   ]
  },
  {
   "cell_type": "markdown",
   "id": "91108c70",
   "metadata": {},
   "source": [
    "## Carregando os dados"
   ]
  },
  {
   "cell_type": "code",
   "execution_count": 2,
   "id": "521b69f4",
   "metadata": {},
   "outputs": [],
   "source": [
    "# Carregar dados\n",
    "X_train, X_test, y_train, y_test = joblib.load('../data/processed/train_test_data.pkl')"
   ]
  },
  {
   "cell_type": "markdown",
   "id": "9ecd322f",
   "metadata": {},
   "source": [
    "## Modelagem"
   ]
  },
  {
   "cell_type": "code",
   "execution_count": 3,
   "id": "f1e3cdfb",
   "metadata": {},
   "outputs": [
    {
     "data": {
      "text/plain": [
       "['../data/processed/model_logreg.pkl']"
      ]
     },
     "execution_count": 3,
     "metadata": {},
     "output_type": "execute_result"
    }
   ],
   "source": [
    "# 📦 Treinar modelos\n",
    "logreg = LogisticRegression(max_iter=1000,random_state=42)\n",
    "logreg.fit(X_train, y_train)\n",
    "\n",
    "# Salvar os modelos\n",
    "import joblib\n",
    "joblib.dump(logreg, '../data/processed/model_logreg.pkl')"
   ]
  },
  {
   "cell_type": "code",
   "execution_count": 4,
   "id": "b38b480b",
   "metadata": {},
   "outputs": [
    {
     "data": {
      "text/plain": [
       "['../data/processed/model_nb.pkl']"
      ]
     },
     "execution_count": 4,
     "metadata": {},
     "output_type": "execute_result"
    }
   ],
   "source": [
    "nb = MultinomialNB()\n",
    "nb.fit(X_train, y_train)\n",
    "\n",
    "# 🎯 Avaliar\n",
    "y_pred_log = logreg.predict(X_test)\n",
    "y_pred_nb = nb.predict(X_test)\n",
    "\n",
    "# Salvar os modelos\n",
    "import joblib\n",
    "joblib.dump(nb, '../data/processed/model_nb.pkl')"
   ]
  },
  {
   "cell_type": "code",
   "execution_count": 5,
   "id": "946960db",
   "metadata": {},
   "outputs": [
    {
     "name": "stdout",
     "output_type": "stream",
     "text": [
      "📊 Regressão Logística:\n",
      "              precision    recall  f1-score   support\n",
      "\n",
      "           0       0.91      0.27      0.42       327\n",
      "           1       0.87      0.99      0.93      1673\n",
      "\n",
      "    accuracy                           0.88      2000\n",
      "   macro avg       0.89      0.63      0.67      2000\n",
      "weighted avg       0.88      0.88      0.85      2000\n",
      "\n",
      "\n",
      "📊 Naive Bayes:\n",
      "              precision    recall  f1-score   support\n",
      "\n",
      "           0       1.00      0.05      0.09       327\n",
      "           1       0.84      1.00      0.91      1673\n",
      "\n",
      "    accuracy                           0.84      2000\n",
      "   macro avg       0.92      0.52      0.50      2000\n",
      "weighted avg       0.87      0.84      0.78      2000\n",
      "\n"
     ]
    }
   ],
   "source": [
    "print(\"📊 Regressão Logística:\")\n",
    "print(classification_report(y_test, y_pred_log))\n",
    "\n",
    "print(\"\\n📊 Naive Bayes:\")\n",
    "print(classification_report(y_test, y_pred_nb))"
   ]
  },
  {
   "cell_type": "code",
   "execution_count": 7,
   "id": "042a8f65",
   "metadata": {},
   "outputs": [
    {
     "name": "stdout",
     "output_type": "stream",
     "text": [
      "📌 AUC Regressão Logística: 0.93\n",
      "📌 AUC Naive Bayes: 0.91\n"
     ]
    }
   ],
   "source": [
    "# 3 - Curva ROC e AUC (Area Under the Curve) - Mede a capacidade do modelo de distinguir entre as classes.\n",
    "# Para modelos que oferecem probabilidade\n",
    "y_proba = logreg.predict_proba(X_test)[:, 1]\n",
    "\n",
    "fpr, tpr, thresholds = roc_curve(y_test, y_proba)\n",
    "roc_auc = auc(fpr, tpr)\n",
    "print(f'📌 AUC Regressão Logística: {roc_auc:.2f}')\n",
    "\n",
    "\n",
    "y_proba = nb.predict_proba(X_test)[:, 1]\n",
    "\n",
    "fpr, tpr, thresholds = roc_curve(y_test, y_proba)\n",
    "roc_auc = auc(fpr, tpr)\n",
    "print(f'📌 AUC Naive Bayes: {roc_auc:.2f}')"
   ]
  },
  {
   "cell_type": "code",
   "execution_count": null,
   "id": "506a2d4f",
   "metadata": {},
   "outputs": [],
   "source": []
  }
 ],
 "metadata": {
  "kernelspec": {
   "display_name": "cases_data_science",
   "language": "python",
   "name": "python3"
  },
  "language_info": {
   "codemirror_mode": {
    "name": "ipython",
    "version": 3
   },
   "file_extension": ".py",
   "mimetype": "text/x-python",
   "name": "python",
   "nbconvert_exporter": "python",
   "pygments_lexer": "ipython3",
   "version": "3.10.18"
  }
 },
 "nbformat": 4,
 "nbformat_minor": 5
}
